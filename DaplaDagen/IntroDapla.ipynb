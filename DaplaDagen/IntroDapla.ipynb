{
 "cells": [
  {
   "cell_type": "markdown",
   "id": "279ec1c3-eeae-42fa-9480-8beaecce1182",
   "metadata": {
    "tags": []
   },
   "source": [
    "# <font color='DarkSlateBlue'> Introduksjon til Dapla med Python\n",
    " </font> \n",
    "\n",
    "\n",
    "**Velkommen til Dapla!** \n",
    " \n",
    "Den nye dataplattformen Dapla skal på *lang sikt* erstatte prodsonen, og være der vi i SSB produserer offisiell statistikk. Når vi snakker om Dapla, snakker vi *egentlig* om hele skysystemet. Det inkluderer Google cloud, masse tekniske IT detaljer, datasikkerhets systemer, lagring av kode i GitHub, Juptyer Lab og Juptyper notebooks. Her er det mange fremmedord, men pust med magen. De ulike begrepene forklares etter tur, og du kan også spørre oss hvis du har noen spørsmål. Først og fremst, vi i fagseksjonene trenger ikke å tenke på de tekniske IT detaljene eller datasikkerhets sytemene. Det er derfor vi har IT seksjonen. Det er heller ikke slik at du må bli en superkoder eller datanørd for kunne bruke Dapla. Det er rom for alle. Noen skal kunne mye og noen skal kunne litt, og det er godt nok.\n",
    "\n",
    "## <font color='DarkSlateBlue'> Hva skjer i Google Cloud? </font> \n",
    "Så du vet hvordan vi lagrer bilder og filer på datamaskinen vår, ikke sant? Vel, tenk om vi kunne lagre dem på en gigantisk datamaskin som vi kunne få tilgang til hvor som helst, når som helst, så lenge vi har en internettforbindelse. Det er hva skytjenester er!\n",
    "\n",
    "I stedet for å lagre ting på vår egen datamaskin, kan vi lagre dem på en ekstern datamaskin som eies av et selskap som Google eller Amazon. De har virkelig store og kraftige datamaskiner, kalt servere, som er koblet til internett hele tiden. Når vi lagrer noe i skyen, blir det lagret på en av disse serverne. Så, hvis vi vil ha tilgang til det senere, kan vi bare gå til et nettsted, Google Cloud Console eller bruke en app, som Jupyter. Vi trenger ikke å bekymre oss for om stamme03 eller stamme02 ikke har nok lagringsplass lengre.\n",
    "\n",
    "Skytjenester kan også brukes til andre ting, som å kjøre programmer eller lagre nettsteder. Det er litt som å leie plass på en annens datamaskin i stedet for å kjøpe vår egen. Skytjenester er en praktisk måte å lagre og få tilgang til informasjon eller kjøre programmer, alt fra våre egne enheter.\n",
    "\n",
    "## <font color='DarkSlateBlue'>  Hva er poenget med GitHub? </font> \n",
    "\n",
    "GitHub er en nettplattform der folk kan lagre og dele datakoden sin med andre. Brukere kan opprette og laste opp kode til *repoer*, det vil si mapper som inneholder kode for et spesifikt prosjekt. Andre brukere kan deretter få tilgang til disse repoene, gjøre endringer eller utvide koden, og foreslå forbedringer ved å sende inn \"pull requests\" som lar den opprinnelige forfatteren gjennomgå og godta de foreslåtte endringene. Det brukes av utviklere, programmerere og alle andre som ønsker å dele og samarbeide om kodeprosjekter, enten det er for personlige eller profesjonelle formål. \n",
    "\n",
    "I tillegg kan man lagre forskjellige versjoner av programmet mens du jobber med det, slik at du kan gå tilbake til en tidligere versjon hvis noe går galt. Dette kalles *versjonskontroll*. Det er som å ha en tidsmaskin for dataprogrammene dine. Tenk deg at du maler et bilde, og du gjør en feil. Med versjonskontroll kan du gå tilbake til en tidligere versjon av bildet før feilen ble gjort og starte på nytt derfra.\n",
    "På samme måte hjelper versjonskontroll programmerere med å holde styr på endringer de gjør i programmene sine over tid. De kan lagre forskjellige versjoner av programmet mens de jobber med det, så hvis noe går galt, kan de gå tilbake til en tidligere versjon og starte på nytt derfra. På denne måten kan de gjøre endringer i programmet uten å bekymre seg for å miste noe av fremgangen de har gjort ved et uhell. Det hjelper dem å jobbe mer effektivt og med større selvtillit.\n",
    "\n",
    "## <font color='DarkSlateBlue'> Jupyter Lab og Jupyter notebooks, er ikke det sammen greia?</font> \n",
    "Jupyter Notebook og JupyterLab er begge programvareverktøy som brukes til å jobbe med kode og data i et nettbasert miljø.\n",
    "\n",
    "Jupyter Notebook er som en digital notatbok hvor du kan skrive kode og tekst. Koden og teksten kan deles inn i separate celler som kan kjøres hver for seg. Du kan kjøre kodecellene for å se utdataene og bruke tekst celler, kalt markdown celler,  til å skrive forklaringer eller notater. Det er en enkel og organisert måte å skrive kode og notater på ett sted. JupyterLab er som et digitalt laboratorium hvor du kan få tilgang til flere notatbøker, tekstredigerere, terminaler og fillesere i samme grensesnitt. \n",
    "\n",
    "Enkelt forklart er en Jupyter Notebook som en word fil, mens JupyterLab er som word programmet.\n",
    "\n",
    "\n",
    "## <font color='DarkSlateBlue'> DAPLA sandkasse </font> \n",
    "Nå skal vi leke litt med Dapla og Python kode! Først skal vi hente data fra mappen i Google Cloud som kalles bøtten eller \"bucket\" og så gå inn in en del mappe i bøtten som kalles \"folder\".\n",
    "\n",
    "Når vi skal bruke kode i python bør vi inn laste pakker som inneholder ferdige funksjoner. Da slipper vi å lage de selv! *Numpy*, *Pandas* og *Matplotlib* er ekstremt kjente python pakker som blir laget av et globalt team av utviklere. *Dapla* eller **dapla-toolbelt** er laget av SSB.\n",
    "\n",
    "**Kjør koden nedenfor!**"
   ]
  },
  {
   "cell_type": "code",
   "execution_count": null,
   "id": "ad742e0b-1a9a-49a0-8214-a22bb6e06019",
   "metadata": {
    "tags": []
   },
   "outputs": [],
   "source": [
    "# Import packages\n",
    "import pandas as pd\n",
    "import numpy as np\n",
    "import matplotlib.pyplot as plt\n",
    "import dapla as dp"
   ]
  },
  {
   "cell_type": "markdown",
   "id": "9938a706-0f00-4378-b3b1-daf9a1a1d510",
   "metadata": {},
   "source": [
    "Ovenfor ser du at kommentarene skrives også på engelsk. Det er fordi det internasjonale sammarbeidsspråket for koding er engelsk. Det finnes en *\"bøtte\"* i google cloud som alle SSB-ansatte har lese- og skrivetilgang til. Nå skal vi sette filstien slik at vi kan hente en data fil å jobbe, leke litt og lagre filen. \n",
    "\n",
    "**Kjør koden nedenfor!**"
   ]
  },
  {
   "cell_type": "code",
   "execution_count": null,
   "id": "a17e87b2-649b-4d03-95b5-21cb51526711",
   "metadata": {},
   "outputs": [],
   "source": [
    "# Her skal vi skrive inn filsti"
   ]
  },
  {
   "cell_type": "markdown",
   "id": "c3d2f833-3284-4595-9026-de74ef48332d",
   "metadata": {},
   "source": [
    "Vi kan se innholdet i en mappe (folder) ved å bruke `FileClient` fra **dapla-toolbelt**."
   ]
  },
  {
   "cell_type": "code",
   "execution_count": null,
   "id": "d1fdc67e-14ec-4e97-9af2-ebd5d4210876",
   "metadata": {
    "tags": []
   },
   "outputs": [],
   "source": [
    "from dapla import FileClient\n",
    "\n",
    "FileClient.ls(f\"{bucket}/{folder}\")"
   ]
  },
  {
   "cell_type": "markdown",
   "id": "d4a0a1c5-4e2d-4df1-b05e-8b503ec78b60",
   "metadata": {},
   "source": [
    "**Kjør koden nedenfor!**"
   ]
  },
  {
   "cell_type": "code",
   "execution_count": null,
   "id": "e9a94d5d-a561-49eb-8e22-622b29e167ed",
   "metadata": {},
   "outputs": [],
   "source": [
    "# Read path into pandas dataframe \n",
    "df = dp.read_pandas(gcs_path= f\"{bucket}/{folder}/data.parquet\",\n",
    "               file_format = \"parquet\",\n",
    "               columns = None,)"
   ]
  },
  {
   "cell_type": "markdown",
   "id": "29163e31-9948-4050-9cf5-30830e5fe70d",
   "metadata": {},
   "source": [
    "## <font color='DarkSlateBlue'> Eksempel </font> \n",
    "Tenkt deg at tre ulike skole klasser, **A**, **B** og **C**, har svart på en undersøkelse på hva deres favoritt frukt er. Nedenfor er det en pandas dataframe med svarene deres. Hver kolonne representerer en frukt mens hver rad inneholder svarene fra en klasse. Tabellen har fått navnet *frukt*. For å lage tabellen må du kjøre koden nedenfor.\n",
    "\n",
    "**Kjør koden nedenfor!**"
   ]
  },
  {
   "cell_type": "code",
   "execution_count": null,
   "id": "4ed4c318-4c59-4da6-807e-3bf8a5ccc79d",
   "metadata": {
    "tags": []
   },
   "outputs": [],
   "source": [
    "frukt = pd.DataFrame(\n",
    "    [[20, 15, 30,10, 25],\n",
    "     [30, 10, 20,15, 25],\n",
    "     [25, 15, 10,30, 20],\n",
    "    ],\n",
    "    index = ['A', 'B', 'C'],\n",
    "    columns = ['Eple', 'Pære','Appelsin','Banan','Druer'])"
   ]
  },
  {
   "cell_type": "markdown",
   "id": "8e585dbd-d264-40f3-ab3b-8f9a5f7b8018",
   "metadata": {},
   "source": [
    "For å se tabellen må vi bruke funksjonen, `.head()`\n",
    "\n",
    "**Kjør koden nedenfor!**"
   ]
  },
  {
   "cell_type": "code",
   "execution_count": null,
   "id": "2d9b70d1-b22b-4fe1-856a-0714930e5450",
   "metadata": {
    "tags": []
   },
   "outputs": [],
   "source": [
    "frukt.head()"
   ]
  },
  {
   "cell_type": "markdown",
   "id": "9ce5e61e-1c55-429d-8093-fb6664bae9df",
   "metadata": {},
   "source": [
    "Nå skal vi lage et sektor diagram av favoritt frukten til A klasse. Først må vi isolere verdiene for kun A klassen. Det gjør vi ved bruk av `loc[]` funksjonen. \"loc\" står for det engelske ordet \"location\".  Inne i klammeparentesen skriver vi *'A'* for A klassen. Dette lagres i variablen A. Nå som vi har isolert A klassen kan vi bruke funksjonen `.plot.pie()`.\n",
    "\n",
    "**Kjør koden nedenfor!**"
   ]
  },
  {
   "cell_type": "code",
   "execution_count": null,
   "id": "0975a6c7-ea84-4915-8b68-69177193e82e",
   "metadata": {
    "tags": []
   },
   "outputs": [],
   "source": [
    "frukt.loc['A'].plot.pie()"
   ]
  },
  {
   "cell_type": "markdown",
   "id": "7e2384ff-eb88-426a-b0d9-907125608b05",
   "metadata": {},
   "source": [
    "## <font color='DarkSlateBlue'> Lagre filen til Dapla </font> \n",
    "Vi bruker `write_pandas()` fra **dapla-toolbelt** til å lagre frukt tabellen til Google Cloud. \n",
    "\n",
    "**Kjør koden nedenfor!**"
   ]
  },
  {
   "cell_type": "code",
   "execution_count": null,
   "id": "9970af11-3d96-4ef6-b356-9d78910e69b4",
   "metadata": {},
   "outputs": [],
   "source": [
    "dp.write_pandas(df = frukt,\n",
    "                gcs_path = f\"{bucket}/{folder}/data.parquet\",\n",
    "                file_format = \"parquet\",)"
   ]
  }
 ],
 "metadata": {
  "kernelspec": {
   "display_name": "Python 3 (ipykernel)",
   "language": "python",
   "name": "python3"
  },
  "language_info": {
   "codemirror_mode": {
    "name": "ipython",
    "version": 3
   },
   "file_extension": ".py",
   "mimetype": "text/x-python",
   "name": "python",
   "nbconvert_exporter": "python",
   "pygments_lexer": "ipython3",
   "version": "3.10.9"
  }
 },
 "nbformat": 4,
 "nbformat_minor": 5
}
